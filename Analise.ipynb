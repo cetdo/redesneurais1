{
 "cells": [
  {
   "cell_type": "code",
   "execution_count": 3,
   "metadata": {},
   "outputs": [],
   "source": [
    "import pandas\n",
    "from datetime import datetime\n",
    "import matplotlib.pyplot as plt\n",
    "import numpy as np"
   ]
  },
  {
   "cell_type": "markdown",
   "metadata": {},
   "source": [
    "### Importando dataset"
   ]
  },
  {
   "cell_type": "code",
   "execution_count": 8,
   "metadata": {},
   "outputs": [],
   "source": [
    "data_source = pandas.read_csv('Manaus.csv', sep=';', encoding='ISO-8859-1', low_memory=False)"
   ]
  },
  {
   "cell_type": "markdown",
   "metadata": {},
   "source": [
    "### Visão Geral dos Casos Confirmados"
   ]
  },
  {
   "cell_type": "markdown",
   "metadata": {},
   "source": [
    "#### 1. Quantos atributos descrevem cada exemplo? Quais são eles?"
   ]
  },
  {
   "cell_type": "code",
   "execution_count": 9,
   "metadata": {},
   "outputs": [
    {
     "name": "stdout",
     "output_type": "stream",
     "text": [
      "São 36 atributos\n"
     ]
    }
   ],
   "source": [
    "print(\"São\", len(data_source.columns), \"atributos\")"
   ]
  },
  {
   "cell_type": "code",
   "execution_count": 10,
   "metadata": {},
   "outputs": [
    {
     "name": "stdout",
     "output_type": "stream",
     "text": [
      "Os atributos são:  ['_idade', '_faixa etária', '_sexo', '_bairro', '_classificacao', '_comorb_renal', '_comorb_diabetes', '_comorb_imuno', '_comorb_cardio', '_conclusao', '_dt_notificacao', '_taxa', '_dt_evolucao', '_raca', '_dt_sintomas', '_criterio', '_tipo_teste', '_sintoma_garganta', '_sintoma_dispneia', '_sintoma_febre', '_sintoma_tosse', '_sintoma_outros', '_etnia', '_profiss_saude', '_srag', '_se_notificacao', '_distrito', '_bairro_mapa', '_comorb_respiratoria', '_comorb_cromossomica', '_comorb_hepatica', '_comorb_neurologica', '_comorb_hemato', '_comorb_obessidade', '_origem', '_evolução']\n"
     ]
    }
   ],
   "source": [
    "print(\"Os atributos são: \", [item for item in data_source.columns])"
   ]
  },
  {
   "cell_type": "markdown",
   "metadata": {},
   "source": [
    "#### 2. Quantos casos confirmados há em Manaus, cumulativamente?"
   ]
  },
  {
   "cell_type": "code",
   "execution_count": 12,
   "metadata": {},
   "outputs": [
    {
     "name": "stdout",
     "output_type": "stream",
     "text": [
      "São 37218 casos confirmados\n"
     ]
    }
   ],
   "source": [
    "print(\"São\", data_source['_classificacao'].value_counts()['Confirmado'], \"casos confirmados\")"
   ]
  },
  {
   "cell_type": "markdown",
   "metadata": {},
   "source": [
    "#### 3. A qual período de tempo a base de dados se refere, isto é, qual o registro mais antigo e qual o mais recente? Leve em conta a data de notificação."
   ]
  },
  {
   "cell_type": "code",
   "execution_count": 13,
   "metadata": {},
   "outputs": [
    {
     "name": "stdout",
     "output_type": "stream",
     "text": [
      "O registro mais antigo: 2020-01-03\n",
      "O registro mais recente: 2020-08-07\n"
     ]
    }
   ],
   "source": [
    "#data_source['_dt_notificacao']\n",
    "l = [datetime.strptime(item, '%d/%m/%Y').date() for item in data_source['_dt_notificacao'].dropna()]\n",
    "print(\"O registro mais antigo:\", min(l))\n",
    "print(\"O registro mais recente:\", max(l))"
   ]
  },
  {
   "cell_type": "markdown",
   "metadata": {},
   "source": [
    "### Limpeza de dados"
   ]
  },
  {
   "cell_type": "markdown",
   "metadata": {},
   "source": [
    "#### Removendos atributos irrelevantes para o contexto"
   ]
  },
  {
   "cell_type": "code",
   "execution_count": 14,
   "metadata": {},
   "outputs": [
    {
     "data": {
      "text/html": [
       "<div>\n",
       "<style scoped>\n",
       "    .dataframe tbody tr th:only-of-type {\n",
       "        vertical-align: middle;\n",
       "    }\n",
       "\n",
       "    .dataframe tbody tr th {\n",
       "        vertical-align: top;\n",
       "    }\n",
       "\n",
       "    .dataframe thead th {\n",
       "        text-align: right;\n",
       "    }\n",
       "</style>\n",
       "<table border=\"1\" class=\"dataframe\">\n",
       "  <thead>\n",
       "    <tr style=\"text-align: right;\">\n",
       "      <th></th>\n",
       "      <th>_idade</th>\n",
       "      <th>_faixa etária</th>\n",
       "      <th>_sexo</th>\n",
       "      <th>_bairro</th>\n",
       "      <th>_classificacao</th>\n",
       "      <th>_conclusao</th>\n",
       "      <th>_dt_notificacao</th>\n",
       "      <th>_taxa</th>\n",
       "      <th>_criterio</th>\n",
       "      <th>_tipo_teste</th>\n",
       "      <th>...</th>\n",
       "      <th>_sintoma_febre</th>\n",
       "      <th>_sintoma_tosse</th>\n",
       "      <th>_sintoma_outros</th>\n",
       "      <th>_profiss_saude</th>\n",
       "      <th>_srag</th>\n",
       "      <th>_se_notificacao</th>\n",
       "      <th>_distrito</th>\n",
       "      <th>_bairro_mapa</th>\n",
       "      <th>_origem</th>\n",
       "      <th>_evolução</th>\n",
       "    </tr>\n",
       "  </thead>\n",
       "  <tbody>\n",
       "    <tr>\n",
       "      <th>0</th>\n",
       "      <td>30.0</td>\n",
       "      <td>30a - 39a</td>\n",
       "      <td>M</td>\n",
       "      <td>JAPIIM</td>\n",
       "      <td>Confirmado</td>\n",
       "      <td>NaN</td>\n",
       "      <td>04/05/2020</td>\n",
       "      <td>0,173837462</td>\n",
       "      <td>NaN</td>\n",
       "      <td>RT-PCR</td>\n",
       "      <td>...</td>\n",
       "      <td>Sim</td>\n",
       "      <td>Não</td>\n",
       "      <td>Não</td>\n",
       "      <td>Não</td>\n",
       "      <td>NaN</td>\n",
       "      <td>19.0</td>\n",
       "      <td>SUL</td>\n",
       "      <td>JAPIIM</td>\n",
       "      <td>eSUS VE,</td>\n",
       "      <td>NaN</td>\n",
       "    </tr>\n",
       "    <tr>\n",
       "      <th>1</th>\n",
       "      <td>30.0</td>\n",
       "      <td>30a - 39a</td>\n",
       "      <td>M</td>\n",
       "      <td>FLORES</td>\n",
       "      <td>Confirmado</td>\n",
       "      <td>NaN</td>\n",
       "      <td>04/05/2020</td>\n",
       "      <td>0,198306463</td>\n",
       "      <td>NaN</td>\n",
       "      <td>RT-PCR</td>\n",
       "      <td>...</td>\n",
       "      <td>Sim</td>\n",
       "      <td>Sim</td>\n",
       "      <td>Não</td>\n",
       "      <td>Não</td>\n",
       "      <td>NaN</td>\n",
       "      <td>19.0</td>\n",
       "      <td>SUL</td>\n",
       "      <td>FLORES</td>\n",
       "      <td>eSUS VE,</td>\n",
       "      <td>NaN</td>\n",
       "    </tr>\n",
       "    <tr>\n",
       "      <th>2</th>\n",
       "      <td>54.0</td>\n",
       "      <td>50a - 59a</td>\n",
       "      <td>M</td>\n",
       "      <td>TANCREDO NEVES</td>\n",
       "      <td>Em análise</td>\n",
       "      <td>Recuperado</td>\n",
       "      <td>25/04/2020</td>\n",
       "      <td>0,169058849</td>\n",
       "      <td>NaN</td>\n",
       "      <td>NaN</td>\n",
       "      <td>...</td>\n",
       "      <td>Sim</td>\n",
       "      <td>Sim</td>\n",
       "      <td>Não</td>\n",
       "      <td>Não</td>\n",
       "      <td>NaN</td>\n",
       "      <td>17.0</td>\n",
       "      <td>LESTE</td>\n",
       "      <td>TANCREDO NEVES</td>\n",
       "      <td>eSUS VE,</td>\n",
       "      <td>NaN</td>\n",
       "    </tr>\n",
       "    <tr>\n",
       "      <th>3</th>\n",
       "      <td>43.0</td>\n",
       "      <td>40a - 49a</td>\n",
       "      <td>F</td>\n",
       "      <td>FLORES</td>\n",
       "      <td>Confirmado</td>\n",
       "      <td>NaN</td>\n",
       "      <td>04/05/2020</td>\n",
       "      <td>0,198306463</td>\n",
       "      <td>NaN</td>\n",
       "      <td>RT-PCR</td>\n",
       "      <td>...</td>\n",
       "      <td>Sim</td>\n",
       "      <td>Sim</td>\n",
       "      <td>Não</td>\n",
       "      <td>Não</td>\n",
       "      <td>NaN</td>\n",
       "      <td>19.0</td>\n",
       "      <td>SUL</td>\n",
       "      <td>FLORES</td>\n",
       "      <td>eSUS VE,</td>\n",
       "      <td>NaN</td>\n",
       "    </tr>\n",
       "    <tr>\n",
       "      <th>4</th>\n",
       "      <td>0.0</td>\n",
       "      <td>&lt; 1a</td>\n",
       "      <td>F</td>\n",
       "      <td>ZUMBI DOS PALMARES</td>\n",
       "      <td>Em análise</td>\n",
       "      <td>Recuperado</td>\n",
       "      <td>04/05/2020</td>\n",
       "      <td>0,234807927</td>\n",
       "      <td>NaN</td>\n",
       "      <td>NaN</td>\n",
       "      <td>...</td>\n",
       "      <td>Sim</td>\n",
       "      <td>Sim</td>\n",
       "      <td>Sim</td>\n",
       "      <td>Não</td>\n",
       "      <td>NaN</td>\n",
       "      <td>19.0</td>\n",
       "      <td>LESTE</td>\n",
       "      <td>ZUMBI DOS PALMARES</td>\n",
       "      <td>eSUS VE,</td>\n",
       "      <td>NaN</td>\n",
       "    </tr>\n",
       "  </tbody>\n",
       "</table>\n",
       "<p>5 rows × 22 columns</p>\n",
       "</div>"
      ],
      "text/plain": [
       "   _idade _faixa etária _sexo             _bairro _classificacao  _conclusao  \\\n",
       "0    30.0     30a - 39a     M              JAPIIM     Confirmado         NaN   \n",
       "1    30.0     30a - 39a     M              FLORES     Confirmado         NaN   \n",
       "2    54.0     50a - 59a     M      TANCREDO NEVES     Em análise  Recuperado   \n",
       "3    43.0     40a - 49a     F              FLORES     Confirmado         NaN   \n",
       "4     0.0          < 1a     F  ZUMBI DOS PALMARES     Em análise  Recuperado   \n",
       "\n",
       "  _dt_notificacao        _taxa _criterio _tipo_teste  ... _sintoma_febre  \\\n",
       "0      04/05/2020  0,173837462       NaN      RT-PCR  ...            Sim   \n",
       "1      04/05/2020  0,198306463       NaN      RT-PCR  ...            Sim   \n",
       "2      25/04/2020  0,169058849       NaN         NaN  ...            Sim   \n",
       "3      04/05/2020  0,198306463       NaN      RT-PCR  ...            Sim   \n",
       "4      04/05/2020  0,234807927       NaN         NaN  ...            Sim   \n",
       "\n",
       "  _sintoma_tosse _sintoma_outros _profiss_saude _srag _se_notificacao  \\\n",
       "0            Não             Não            Não   NaN            19.0   \n",
       "1            Sim             Não            Não   NaN            19.0   \n",
       "2            Sim             Não            Não   NaN            17.0   \n",
       "3            Sim             Não            Não   NaN            19.0   \n",
       "4            Sim             Sim            Não   NaN            19.0   \n",
       "\n",
       "  _distrito        _bairro_mapa    _origem _evolução  \n",
       "0       SUL              JAPIIM  eSUS VE,        NaN  \n",
       "1       SUL              FLORES  eSUS VE,        NaN  \n",
       "2     LESTE      TANCREDO NEVES  eSUS VE,        NaN  \n",
       "3       SUL              FLORES  eSUS VE,        NaN  \n",
       "4     LESTE  ZUMBI DOS PALMARES  eSUS VE,        NaN  \n",
       "\n",
       "[5 rows x 22 columns]"
      ]
     },
     "execution_count": 14,
     "metadata": {},
     "output_type": "execute_result"
    }
   ],
   "source": [
    "data_clean = data_source.drop(columns=['_comorb_renal', '_comorb_diabetes', '_comorb_imuno',\n",
    "                                       '_comorb_cardio', '_dt_evolucao', '_raca', '_dt_sintomas',\n",
    "                                       '_etnia', '_comorb_respiratoria', '_comorb_cromossomica',\n",
    "                                       '_comorb_hepatica', '_comorb_neurologica', '_comorb_hemato',\n",
    "                                       '_comorb_obessidade'])\n",
    "data_clean.head(5)"
   ]
  },
  {
   "cell_type": "markdown",
   "metadata": {},
   "source": [
    "#### Removendo linhas com atributos faltantes"
   ]
  },
  {
   "cell_type": "code",
   "execution_count": 15,
   "metadata": {
    "scrolled": false
   },
   "outputs": [
    {
     "data": {
      "text/html": [
       "<div>\n",
       "<style scoped>\n",
       "    .dataframe tbody tr th:only-of-type {\n",
       "        vertical-align: middle;\n",
       "    }\n",
       "\n",
       "    .dataframe tbody tr th {\n",
       "        vertical-align: top;\n",
       "    }\n",
       "\n",
       "    .dataframe thead th {\n",
       "        text-align: right;\n",
       "    }\n",
       "</style>\n",
       "<table border=\"1\" class=\"dataframe\">\n",
       "  <thead>\n",
       "    <tr style=\"text-align: right;\">\n",
       "      <th></th>\n",
       "      <th>_idade</th>\n",
       "      <th>_faixa etária</th>\n",
       "      <th>_sexo</th>\n",
       "      <th>_bairro</th>\n",
       "      <th>_classificacao</th>\n",
       "      <th>_conclusao</th>\n",
       "      <th>_dt_notificacao</th>\n",
       "      <th>_taxa</th>\n",
       "      <th>_criterio</th>\n",
       "      <th>_tipo_teste</th>\n",
       "      <th>...</th>\n",
       "      <th>_sintoma_febre</th>\n",
       "      <th>_sintoma_tosse</th>\n",
       "      <th>_sintoma_outros</th>\n",
       "      <th>_profiss_saude</th>\n",
       "      <th>_srag</th>\n",
       "      <th>_se_notificacao</th>\n",
       "      <th>_distrito</th>\n",
       "      <th>_bairro_mapa</th>\n",
       "      <th>_origem</th>\n",
       "      <th>_evolução</th>\n",
       "    </tr>\n",
       "  </thead>\n",
       "  <tbody>\n",
       "    <tr>\n",
       "      <th>107924</th>\n",
       "      <td>54.0</td>\n",
       "      <td>50a - 59a</td>\n",
       "      <td>M</td>\n",
       "      <td>CIDADE DE DEUS</td>\n",
       "      <td>Confirmado</td>\n",
       "      <td>Recuperado</td>\n",
       "      <td>18/06/2020</td>\n",
       "      <td>0,117699678</td>\n",
       "      <td>Laboratorial</td>\n",
       "      <td>RT-PCR</td>\n",
       "      <td>...</td>\n",
       "      <td>Sim</td>\n",
       "      <td>Sim</td>\n",
       "      <td>Sim</td>\n",
       "      <td>Não</td>\n",
       "      <td>COVID-19</td>\n",
       "      <td>25.0</td>\n",
       "      <td>NORTE</td>\n",
       "      <td>CIDADE DE DEUS</td>\n",
       "      <td>SIVEP, eSUS VE,</td>\n",
       "      <td>Internado</td>\n",
       "    </tr>\n",
       "    <tr>\n",
       "      <th>107925</th>\n",
       "      <td>30.0</td>\n",
       "      <td>30a - 39a</td>\n",
       "      <td>M</td>\n",
       "      <td>NOVA CIDADE</td>\n",
       "      <td>Confirmado</td>\n",
       "      <td>Recuperado</td>\n",
       "      <td>29/04/2020</td>\n",
       "      <td>0,13857325</td>\n",
       "      <td>Laboratorial</td>\n",
       "      <td>TESTE RÁPIDO - ANTÍGENO</td>\n",
       "      <td>...</td>\n",
       "      <td>Sim</td>\n",
       "      <td>Sim</td>\n",
       "      <td>Sim</td>\n",
       "      <td>Não</td>\n",
       "      <td>COVID-19</td>\n",
       "      <td>18.0</td>\n",
       "      <td>NORTE</td>\n",
       "      <td>NOVA CIDADE</td>\n",
       "      <td>SIVEP, eSUS VE,</td>\n",
       "      <td>Internado</td>\n",
       "    </tr>\n",
       "    <tr>\n",
       "      <th>107926</th>\n",
       "      <td>54.0</td>\n",
       "      <td>50a - 59a</td>\n",
       "      <td>M</td>\n",
       "      <td>NOVO ISRAEL</td>\n",
       "      <td>Confirmado</td>\n",
       "      <td>Recuperado</td>\n",
       "      <td>18/04/2020</td>\n",
       "      <td>0,490725292</td>\n",
       "      <td>Laboratorial</td>\n",
       "      <td>TESTE RÁPIDO - ANTICORPO</td>\n",
       "      <td>...</td>\n",
       "      <td>Sim</td>\n",
       "      <td>Sim</td>\n",
       "      <td>Sim</td>\n",
       "      <td>Não</td>\n",
       "      <td>COVID-19</td>\n",
       "      <td>16.0</td>\n",
       "      <td>NORTE</td>\n",
       "      <td>NOVO ISRAEL</td>\n",
       "      <td>SIVEP, eSUS VE,</td>\n",
       "      <td>Internado</td>\n",
       "    </tr>\n",
       "    <tr>\n",
       "      <th>107927</th>\n",
       "      <td>52.0</td>\n",
       "      <td>50a - 59a</td>\n",
       "      <td>M</td>\n",
       "      <td>CIDADE NOVA</td>\n",
       "      <td>Confirmado</td>\n",
       "      <td>Recuperado</td>\n",
       "      <td>20/04/2020</td>\n",
       "      <td>0,068152389</td>\n",
       "      <td>Clínico</td>\n",
       "      <td>TESTE RÁPIDO - ANTICORPO</td>\n",
       "      <td>...</td>\n",
       "      <td>Sim</td>\n",
       "      <td>Sim</td>\n",
       "      <td>Sim</td>\n",
       "      <td>Não</td>\n",
       "      <td>SRAG não especificado</td>\n",
       "      <td>17.0</td>\n",
       "      <td>NORTE</td>\n",
       "      <td>CIDADE NOVA</td>\n",
       "      <td>SIVEP, eSUS VE,</td>\n",
       "      <td>Internado</td>\n",
       "    </tr>\n",
       "    <tr>\n",
       "      <th>107931</th>\n",
       "      <td>55.0</td>\n",
       "      <td>50a - 59a</td>\n",
       "      <td>F</td>\n",
       "      <td>MORRO DA LIBERDADE</td>\n",
       "      <td>Confirmado</td>\n",
       "      <td>Recuperado</td>\n",
       "      <td>18/06/2020</td>\n",
       "      <td>0,749793807</td>\n",
       "      <td>Laboratorial</td>\n",
       "      <td>TESTE RÁPIDO - ANTICORPO</td>\n",
       "      <td>...</td>\n",
       "      <td>Sim</td>\n",
       "      <td>Sim</td>\n",
       "      <td>Sim</td>\n",
       "      <td>Não</td>\n",
       "      <td>COVID-19</td>\n",
       "      <td>25.0</td>\n",
       "      <td>SUL</td>\n",
       "      <td>MORRO DA LIBERDADE</td>\n",
       "      <td>SIVEP, eSUS VE,</td>\n",
       "      <td>Internado</td>\n",
       "    </tr>\n",
       "  </tbody>\n",
       "</table>\n",
       "<p>5 rows × 22 columns</p>\n",
       "</div>"
      ],
      "text/plain": [
       "        _idade _faixa etária _sexo             _bairro _classificacao  \\\n",
       "107924    54.0     50a - 59a     M      CIDADE DE DEUS     Confirmado   \n",
       "107925    30.0     30a - 39a     M         NOVA CIDADE     Confirmado   \n",
       "107926    54.0     50a - 59a     M         NOVO ISRAEL     Confirmado   \n",
       "107927    52.0     50a - 59a     M         CIDADE NOVA     Confirmado   \n",
       "107931    55.0     50a - 59a     F  MORRO DA LIBERDADE     Confirmado   \n",
       "\n",
       "        _conclusao _dt_notificacao        _taxa     _criterio  \\\n",
       "107924  Recuperado      18/06/2020  0,117699678  Laboratorial   \n",
       "107925  Recuperado      29/04/2020   0,13857325  Laboratorial   \n",
       "107926  Recuperado      18/04/2020  0,490725292  Laboratorial   \n",
       "107927  Recuperado      20/04/2020  0,068152389       Clínico   \n",
       "107931  Recuperado      18/06/2020  0,749793807  Laboratorial   \n",
       "\n",
       "                     _tipo_teste  ... _sintoma_febre _sintoma_tosse  \\\n",
       "107924                    RT-PCR  ...            Sim            Sim   \n",
       "107925   TESTE RÁPIDO - ANTÍGENO  ...            Sim            Sim   \n",
       "107926  TESTE RÁPIDO - ANTICORPO  ...            Sim            Sim   \n",
       "107927  TESTE RÁPIDO - ANTICORPO  ...            Sim            Sim   \n",
       "107931  TESTE RÁPIDO - ANTICORPO  ...            Sim            Sim   \n",
       "\n",
       "       _sintoma_outros _profiss_saude                  _srag _se_notificacao  \\\n",
       "107924             Sim            Não               COVID-19            25.0   \n",
       "107925             Sim            Não               COVID-19            18.0   \n",
       "107926             Sim            Não               COVID-19            16.0   \n",
       "107927             Sim            Não  SRAG não especificado            17.0   \n",
       "107931             Sim            Não               COVID-19            25.0   \n",
       "\n",
       "       _distrito        _bairro_mapa           _origem  _evolução  \n",
       "107924     NORTE      CIDADE DE DEUS  SIVEP, eSUS VE,   Internado  \n",
       "107925     NORTE         NOVA CIDADE  SIVEP, eSUS VE,   Internado  \n",
       "107926     NORTE         NOVO ISRAEL  SIVEP, eSUS VE,   Internado  \n",
       "107927     NORTE         CIDADE NOVA  SIVEP, eSUS VE,   Internado  \n",
       "107931       SUL  MORRO DA LIBERDADE  SIVEP, eSUS VE,   Internado  \n",
       "\n",
       "[5 rows x 22 columns]"
      ]
     },
     "execution_count": 15,
     "metadata": {},
     "output_type": "execute_result"
    }
   ],
   "source": [
    "data_clean = data_clean.dropna()\n",
    "data_clean.head(5)"
   ]
  },
  {
   "cell_type": "markdown",
   "metadata": {},
   "source": [
    "### Após a limpeza:"
   ]
  },
  {
   "cell_type": "markdown",
   "metadata": {},
   "source": [
    "#### 1. Quantos exemplos e atributos há na base de dados após a limpeza e organização?"
   ]
  },
  {
   "cell_type": "code",
   "execution_count": 16,
   "metadata": {},
   "outputs": [
    {
     "name": "stdout",
     "output_type": "stream",
     "text": [
      "Há 22 atributos após a limpeza e 854 exemplos\n"
     ]
    }
   ],
   "source": [
    "print(\"Há\", len(data_clean.columns), \"atributos após a limpeza\", \"e\", len(data_clean) ,\"exemplos\")"
   ]
  },
  {
   "cell_type": "markdown",
   "metadata": {},
   "source": [
    "#### 2. Qual porcentagem de indivíduos recuperados em relação ao todo?"
   ]
  },
  {
   "cell_type": "code",
   "execution_count": 17,
   "metadata": {},
   "outputs": [
    {
     "name": "stdout",
     "output_type": "stream",
     "text": [
      "98.01 %\n"
     ]
    }
   ],
   "source": [
    "rec = len(data_clean.where(data_clean['_conclusao'] == 'Recuperado').dropna())\n",
    "tot = len(data_clean)\n",
    "per = round(((rec/tot)*100), 2)\n",
    "print(per,\"%\")"
   ]
  },
  {
   "cell_type": "markdown",
   "metadata": {},
   "source": [
    "#### 3. Os casos acometeram mais indivíduos do sexo masculino ou feminino?"
   ]
  },
  {
   "cell_type": "code",
   "execution_count": 18,
   "metadata": {
    "scrolled": true
   },
   "outputs": [
    {
     "name": "stdout",
     "output_type": "stream",
     "text": [
      "Pessoas do sexo masculino foram as mais acometidas\n"
     ]
    }
   ],
   "source": [
    "men = len(data_clean.where(data_clean['_sexo']=='M').dropna())\n",
    "fem = len(data_clean.where(data_clean['_sexo']=='F').dropna())\n",
    "\n",
    "if (men > fem):\n",
    "    print(\"Pessoas do sexo masculino foram as mais acometidas\")\n",
    "else:\n",
    "    print(\"Pessoas do sexo feminino foram as mais acometidas\")"
   ]
  },
  {
   "cell_type": "markdown",
   "metadata": {},
   "source": [
    "#### 4. Qual a média e desvio padrão de idade dos indivíduos que contraíram COVID-19? Qual o indivíduo mais jovem e o mais idoso a contraírem tal enfermidade?"
   ]
  },
  {
   "cell_type": "code",
   "execution_count": 19,
   "metadata": {
    "scrolled": false
   },
   "outputs": [
    {
     "name": "stdout",
     "output_type": "stream",
     "text": [
      "A média de idade foi 45.68 anos\n",
      "O desvio padrão foi 21.62\n"
     ]
    }
   ],
   "source": [
    "mean=data_clean['_idade'].mean()\n",
    "std=data_clean['_idade'].std()\n",
    "print(\"A média de idade foi %.2f\"%mean,\"anos\")\n",
    "print(\"O desvio padrão foi %.2f\"%std)\n"
   ]
  },
  {
   "cell_type": "code",
   "execution_count": 20,
   "metadata": {},
   "outputs": [
    {
     "name": "stdout",
     "output_type": "stream",
     "text": [
      "A idade do individuo mais jovem era 0 anos\n",
      "A idade do individuo mais velho era 92 anos\n"
     ]
    }
   ],
   "source": [
    "min_age=data_clean['_idade'].min()\n",
    "max_age=data_clean['_idade'].max()\n",
    "print(\"A idade do individuo mais jovem era %.0f\"%min_age,\"anos\")\n",
    "print(\"A idade do individuo mais velho era %.0f\"%max_age,\"anos\")\n"
   ]
  },
  {
   "cell_type": "markdown",
   "metadata": {},
   "source": [
    "#### 5. Qual o bairro com maior incidência de casos?"
   ]
  },
  {
   "cell_type": "code",
   "execution_count": 21,
   "metadata": {
    "scrolled": true
   },
   "outputs": [
    {
     "name": "stdout",
     "output_type": "stream",
     "text": [
      "O bairro com maior incidencia é CIDADE NOVA\n"
     ]
    }
   ],
   "source": [
    "district=data_clean['_bairro'].value_counts().idxmax()\n",
    "print(\"O bairro com maior incidencia é\",district)"
   ]
  },
  {
   "cell_type": "markdown",
   "metadata": {},
   "source": [
    "#### 6. Quais os três bairros com maior incidência de casos recuperados?"
   ]
  },
  {
   "cell_type": "code",
   "execution_count": 22,
   "metadata": {},
   "outputs": [
    {
     "name": "stdout",
     "output_type": "stream",
     "text": [
      "Os três bairros com maior incidencia são ['CIDADE NOVA', 'COMPENSA', 'ALVORADA']\n"
     ]
    }
   ],
   "source": [
    "top_district=data_clean['_bairro'].value_counts()[:3].index.tolist()\n",
    "print(\"Os três bairros com maior incidencia são\",top_district)"
   ]
  },
  {
   "cell_type": "markdown",
   "metadata": {},
   "source": [
    "#### 7. Quais os tipos de testes efetuados, segundo os dados? Indique os dados de maneira quantitativa e percentual."
   ]
  },
  {
   "cell_type": "code",
   "execution_count": 23,
   "metadata": {},
   "outputs": [
    {
     "data": {
      "text/html": [
       "<div>\n",
       "<style scoped>\n",
       "    .dataframe tbody tr th:only-of-type {\n",
       "        vertical-align: middle;\n",
       "    }\n",
       "\n",
       "    .dataframe tbody tr th {\n",
       "        vertical-align: top;\n",
       "    }\n",
       "\n",
       "    .dataframe thead th {\n",
       "        text-align: right;\n",
       "    }\n",
       "</style>\n",
       "<table border=\"1\" class=\"dataframe\">\n",
       "  <thead>\n",
       "    <tr style=\"text-align: right;\">\n",
       "      <th></th>\n",
       "      <th>Tipo de Test</th>\n",
       "      <th>Porcentagem</th>\n",
       "    </tr>\n",
       "  </thead>\n",
       "  <tbody>\n",
       "    <tr>\n",
       "      <th>0</th>\n",
       "      <td>RT-PCR</td>\n",
       "      <td>69.44%</td>\n",
       "    </tr>\n",
       "    <tr>\n",
       "      <th>1</th>\n",
       "      <td>TESTE RÁPIDO - ANTICORPO</td>\n",
       "      <td>25.76%</td>\n",
       "    </tr>\n",
       "    <tr>\n",
       "      <th>2</th>\n",
       "      <td>TESTE RÁPIDO - ANTÍGENO</td>\n",
       "      <td>4.68%</td>\n",
       "    </tr>\n",
       "    <tr>\n",
       "      <th>3</th>\n",
       "      <td>ECLIA IgG</td>\n",
       "      <td>0.12%</td>\n",
       "    </tr>\n",
       "  </tbody>\n",
       "</table>\n",
       "</div>"
      ],
      "text/plain": [
       "               Tipo de Test Porcentagem\n",
       "0                    RT-PCR      69.44%\n",
       "1  TESTE RÁPIDO - ANTICORPO      25.76%\n",
       "2   TESTE RÁPIDO - ANTÍGENO       4.68%\n",
       "3                 ECLIA IgG       0.12%"
      ]
     },
     "execution_count": 23,
     "metadata": {},
     "output_type": "execute_result"
    }
   ],
   "source": [
    "test_percent = data_clean['_tipo_teste'].value_counts(normalize=True) * 100\n",
    "test_type = test_percent.index\n",
    "frame = {'Tipo de Test': test_type, 'Porcentagem': [f'{item:.2f}%' for item in test_percent.values]}\n",
    "pandas.DataFrame(frame)"
   ]
  },
  {
   "cell_type": "markdown",
   "metadata": {},
   "source": [
    "#### 8. Qual taxa de letalidade pode ser calculada a partir do conjunto de dados? Para calcular esta taxa, considere a fração do total de óbitos pelo total de casos;"
   ]
  },
  {
   "cell_type": "code",
   "execution_count": 24,
   "metadata": {},
   "outputs": [
    {
     "name": "stdout",
     "output_type": "stream",
     "text": [
      "Taxa de letalidade: 0.02%\n"
     ]
    }
   ],
   "source": [
    "total_dead = data_clean['_conclusao'].value_counts()['Óbito']\n",
    "total = len(data_clean)\n",
    "taxa = total_dead/total\n",
    "print(f'Taxa de letalidade: {taxa:.2f}%')"
   ]
  },
  {
   "cell_type": "markdown",
   "metadata": {},
   "source": [
    "#### 9. Qual o tipo de correlação, mediante coeficiente de correlação de Pearson, entre a idade e o número de casos? Para responder a esta pergunte, agrupe o número de casos por idade e efetue o cálculo de tal coeficiente. Indique, a partir do resultado, a natureza desta correlação, se é positiva ou negativa, e qual sua intensidade."
   ]
  },
  {
   "cell_type": "markdown",
   "metadata": {},
   "source": [
    "Agrupamento casos confirmados por idade:"
   ]
  },
  {
   "cell_type": "code",
   "execution_count": 25,
   "metadata": {},
   "outputs": [
    {
     "data": {
      "text/html": [
       "<div>\n",
       "<style scoped>\n",
       "    .dataframe tbody tr th:only-of-type {\n",
       "        vertical-align: middle;\n",
       "    }\n",
       "\n",
       "    .dataframe tbody tr th {\n",
       "        vertical-align: top;\n",
       "    }\n",
       "\n",
       "    .dataframe thead th {\n",
       "        text-align: right;\n",
       "    }\n",
       "</style>\n",
       "<table border=\"1\" class=\"dataframe\">\n",
       "  <thead>\n",
       "    <tr style=\"text-align: right;\">\n",
       "      <th></th>\n",
       "      <th>Idade</th>\n",
       "      <th>Confirmados</th>\n",
       "    </tr>\n",
       "  </thead>\n",
       "  <tbody>\n",
       "    <tr>\n",
       "      <th>0</th>\n",
       "      <td>0.0</td>\n",
       "      <td>23</td>\n",
       "    </tr>\n",
       "    <tr>\n",
       "      <th>1</th>\n",
       "      <td>53.0</td>\n",
       "      <td>21</td>\n",
       "    </tr>\n",
       "    <tr>\n",
       "      <th>2</th>\n",
       "      <td>58.0</td>\n",
       "      <td>20</td>\n",
       "    </tr>\n",
       "    <tr>\n",
       "      <th>3</th>\n",
       "      <td>42.0</td>\n",
       "      <td>18</td>\n",
       "    </tr>\n",
       "    <tr>\n",
       "      <th>4</th>\n",
       "      <td>49.0</td>\n",
       "      <td>18</td>\n",
       "    </tr>\n",
       "    <tr>\n",
       "      <th>...</th>\n",
       "      <td>...</td>\n",
       "      <td>...</td>\n",
       "    </tr>\n",
       "    <tr>\n",
       "      <th>85</th>\n",
       "      <td>88.0</td>\n",
       "      <td>1</td>\n",
       "    </tr>\n",
       "    <tr>\n",
       "      <th>86</th>\n",
       "      <td>9.0</td>\n",
       "      <td>1</td>\n",
       "    </tr>\n",
       "    <tr>\n",
       "      <th>87</th>\n",
       "      <td>90.0</td>\n",
       "      <td>1</td>\n",
       "    </tr>\n",
       "    <tr>\n",
       "      <th>88</th>\n",
       "      <td>77.0</td>\n",
       "      <td>1</td>\n",
       "    </tr>\n",
       "    <tr>\n",
       "      <th>89</th>\n",
       "      <td>92.0</td>\n",
       "      <td>1</td>\n",
       "    </tr>\n",
       "  </tbody>\n",
       "</table>\n",
       "<p>90 rows × 2 columns</p>\n",
       "</div>"
      ],
      "text/plain": [
       "    Idade  Confirmados\n",
       "0     0.0           23\n",
       "1    53.0           21\n",
       "2    58.0           20\n",
       "3    42.0           18\n",
       "4    49.0           18\n",
       "..    ...          ...\n",
       "85   88.0            1\n",
       "86    9.0            1\n",
       "87   90.0            1\n",
       "88   77.0            1\n",
       "89   92.0            1\n",
       "\n",
       "[90 rows x 2 columns]"
      ]
     },
     "execution_count": 25,
     "metadata": {},
     "output_type": "execute_result"
    }
   ],
   "source": [
    "filtered_df = data_clean.where(data_clean['_classificacao']=='Confirmado').dropna()\n",
    "age_count = filtered_df['_idade'].value_counts()\n",
    "frame = {'Idade': age_count.index, 'Confirmados': age_count.values}\n",
    "age_conf_df = pandas.DataFrame(frame)\n",
    "age_conf_df"
   ]
  },
  {
   "cell_type": "markdown",
   "metadata": {},
   "source": [
    "Correlação de pearson:"
   ]
  },
  {
   "cell_type": "code",
   "execution_count": 26,
   "metadata": {},
   "outputs": [
    {
     "name": "stdout",
     "output_type": "stream",
     "text": [
      "A correlação entre o idate e casos confirmados é -0.013876563216391798\n"
     ]
    }
   ],
   "source": [
    "corr = age_conf_df.Idade.corr(age_conf_df.Confirmados, method = 'pearson')\n",
    "print(\"A correlação entre o idate e casos confirmados é\", corr)"
   ]
  },
  {
   "cell_type": "markdown",
   "metadata": {},
   "source": [
    "#### *Obs: O coeficiente fica negativo pois há muitos casos confirmados mapeados para a idade 0.0.\n",
    "Aparentemente é um outlier já que o valor destoa muito de seus vizinhos"
   ]
  },
  {
   "cell_type": "markdown",
   "metadata": {},
   "source": [
    "#### Calculando correlação de pearson sem a idade 0.0"
   ]
  },
  {
   "cell_type": "code",
   "execution_count": 27,
   "metadata": {},
   "outputs": [
    {
     "name": "stdout",
     "output_type": "stream",
     "text": [
      "A correlação entre o idate e casos confirmados é (sem idade 0.0) 0.046455101357807005\n"
     ]
    }
   ],
   "source": [
    "age_conf_df = age_conf_df[age_conf_df.Idade != 0.0]\n",
    "corr = age_conf_df.Idade.corr(age_conf_df.Confirmados, method = 'pearson')\n",
    "print(\"A correlação entre o idate e casos confirmados é (sem idade 0.0)\", corr)"
   ]
  },
  {
   "cell_type": "markdown",
   "metadata": {},
   "source": [
    "## Visualização de Dados"
   ]
  },
  {
   "cell_type": "markdown",
   "metadata": {},
   "source": [
    "#### 1. Construa um histograma denotando a quantidade de casos nos 10 bairros em que houve mais casos registrados. Inclua todos os bairros remanescentes em uma categoria denominada “Outros.” Denote as informações de maneira percentual;"
   ]
  },
  {
   "cell_type": "code",
   "execution_count": 29,
   "metadata": {},
   "outputs": [
    {
     "data": {
      "text/plain": [
       "<BarContainer object of 11 artists>"
      ]
     },
     "execution_count": 29,
     "metadata": {},
     "output_type": "execute_result"
    },
    {
     "data": {
      "image/png": "[encoded data removed]",
      "text/plain": [
       "<Figure size 1440x720 with 1 Axes>"
      ]
     },
     "metadata": {},
     "output_type": "display_data"
    }
   ],
   "source": [
    "confirmed = data_clean.where(data_clean['_classificacao']== 'Confirmado').dropna()\n",
    "total = len(confirmed)\n",
    "districts = confirmed['_bairro'].value_counts()[:10].index.tolist()\n",
    "district_cases = []\n",
    "aux = 0\n",
    "for district in districts:\n",
    "    district_cases.append(len(confirmed.where(confirmed['_bairro'] == district).dropna()))\n",
    "    aux += len(confirmed.where(confirmed['_bairro'] == district).dropna())\n",
    "    \n",
    "districts.append('OUTROS')\n",
    "district_cases.append(total - aux)\n",
    "\n",
    "plt.figure(figsize = (20, 10))\n",
    "plt.title('Histograma de Casos por Bairro')\n",
    "plt.xlabel('Bairros')\n",
    "plt.ylabel('Numero de Casos Confirmados')\n",
    "plt.grid(True)\n",
    "plt.bar(districts, district_cases)\n",
    "\n"
   ]
  },
  {
   "cell_type": "markdown",
   "metadata": {},
   "source": [
    "#### 2. Denote, por sexo, o boxplot da idade dos casos confirmados. Há outliers?"
   ]
  },
  {
   "cell_type": "code",
   "execution_count": 30,
   "metadata": {},
   "outputs": [
    {
     "name": "stdout",
     "output_type": "stream",
     "text": [
      "Nota-se a presença de Outliers no Boxplot de casos confirmados em pessoas do sexo masculino\n"
     ]
    },
    {
     "data": {
      "image/png": "[encoded data removed]",
      "text/plain": [
       "<Figure size 1440x576 with 1 Axes>"
      ]
     },
     "metadata": {},
     "output_type": "display_data"
    }
   ],
   "source": [
    "men = confirmed[confirmed._sexo=='M']\n",
    "men = men['_idade']\n",
    "women = confirmed[confirmed._sexo=='F']\n",
    "women = women['_idade']\n",
    "\n",
    "s_describe = {'M': 'Masculino', 'F':'Feminino'}\n",
    "\n",
    "plt.figure(figsize = (20, 8))\n",
    "plt.ylabel('Idade')\n",
    "plt.xlabel('Sexo')\n",
    "plt.title('Boxplot da Idade dos Casos Confirmados Separados por Sexo')\n",
    "plt.boxplot([men, women], labels=['Masculino','Feminino'])\n",
    "    \n",
    "print('Nota-se a presença de Outliers no Boxplot de casos confirmados em pessoas do sexo masculino')"
   ]
  },
  {
   "cell_type": "markdown",
   "metadata": {},
   "source": [
    "#### 3. Denote em um gráfico de barras o número de novos casos por dia, considerando os 10 últimos dias existentes na base de dados;"
   ]
  },
  {
   "cell_type": "code",
   "execution_count": 47,
   "metadata": {},
   "outputs": [
    {
     "data": {
      "text/plain": [
       "<BarContainer object of 10 artists>"
      ]
     },
     "execution_count": 47,
     "metadata": {},
     "output_type": "execute_result"
    },
    {
     "data": {
      "image/png": "[encoded data removed]",
      "text/plain": [
       "<Figure size 1440x720 with 1 Axes>"
      ]
     },
     "metadata": {},
     "output_type": "display_data"
    }
   ],
   "source": [
    "date_notification = data_clean['_dt_notificacao'].value_counts()\n",
    "frame = {'date': date_notification.index, 'new_cases': date_notification.values}\n",
    "date_df = pandas.DataFrame(frame)\n",
    "date_df = date_df.sort_values('date', ascending=False)\n",
    "\n",
    "plt.figure(figsize = (20, 10))\n",
    "plt.title('Novos casos por dia')\n",
    "plt.xlabel('Novo casos confirmados')\n",
    "plt.ylabel('Dias')\n",
    "plt.grid(True)\n",
    "plt.barh(date_df.head(10)['date'], date_df.head(10)['new_cases'])"
   ]
  }
 ],
 "metadata": {
  "kernelspec": {
   "display_name": "Python 3",
   "language": "python",
   "name": "python3"
  },
  "language_info": {
   "codemirror_mode": {
    "name": "ipython",
    "version": 3
   },
   "file_extension": ".py",
   "mimetype": "text/x-python",
   "name": "python",
   "nbconvert_exporter": "python",
   "pygments_lexer": "ipython3",
   "version": "3.6.9"
  }
 },
 "nbformat": 4,
 "nbformat_minor": 4
}
